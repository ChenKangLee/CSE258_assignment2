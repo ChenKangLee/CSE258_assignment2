{
 "cells": [
  {
   "cell_type": "code",
   "execution_count": 2,
   "id": "61736ce3",
   "metadata": {},
   "outputs": [],
   "source": [
    "import os\n",
    "import json\n",
    "import pandas as pd\n",
    "from collections import defaultdict\n",
    "from tqdm.notebook import tqdm"
   ]
  },
  {
   "cell_type": "markdown",
   "id": "db38122a",
   "metadata": {},
   "source": [
    "## Preprocessing"
   ]
  },
  {
   "cell_type": "code",
   "execution_count": 3,
   "id": "3df97899",
   "metadata": {},
   "outputs": [],
   "source": [
    "# isolate type6 and type7 testing\n",
    "with open('challenge_set.json', 'r') as file:\n",
    "    challenge_set = json.load(file)\n",
    "\n",
    "    type_6 = challenge_set['playlists'][5000:6000]\n",
    "    type_7 = challenge_set['playlists'][6000:7000]\n",
    "    \n",
    "    with open('challenge_type_6.json', 'w') as f:\n",
    "        json.dump(type_6, f)\n",
    "        \n",
    "    with open('challenge_type_7.json', 'w') as f:\n",
    "        json.dump(type_7, f)"
   ]
  },
  {
   "cell_type": "markdown",
   "id": "33d206fb",
   "metadata": {},
   "source": [
    "## Jaccard"
   ]
  },
  {
   "cell_type": "code",
   "execution_count": 4,
   "id": "6c4c48a8",
   "metadata": {},
   "outputs": [],
   "source": [
    "import pandas as pd\n",
    "\n",
    "\n",
    "def jaccard(s1, s2):\n",
    "    numer = len(s1 & s2)\n",
    "    denom = len(s1 | s2)\n",
    "    return numer / denom if denom else 0\n",
    "\n",
    "\n",
    "def pre_calc_jaccard(dataset):\n",
    "    jaccard_dict = {}\n",
    "    \n",
    "    unique_track = set()\n",
    "    for sample in tqdm(type_7):\n",
    "        playlist = [t[\"track_uri\"] for t in sample[\"tracks\"]]\n",
    "        unique_track.update(playlist)\n",
    "        \n",
    "    for track in tqdm(all_tracks):\n",
    "        for ref_track in unique_track:\n",
    "            jaccard_dict[(track, ref_track)] = jaccard(playlist_per_track[track], playlist_per_track[ref_track])\n",
    "    return jaccard_dict\n",
    "\n",
    "\n",
    "def apc(dataset):\n",
    "    predictions = []\n",
    "    for sample in tqdm(dataset):\n",
    "        k = sample[\"num_holdouts\"]\n",
    "        playlist = [t[\"track_uri\"] for t in sample[\"tracks\"]]\n",
    "\n",
    "        tracks_scored = []\n",
    "        for track in tqdm(all_tracks):\n",
    "            if track in playlist: # skip tracks thats already in `playlist`\n",
    "                continue\n",
    "\n",
    "            jaccard_sum = 0\n",
    "            for ref_track in playlist:\n",
    "                jaccard_sum += jaccard(playlist_per_track[track], playlist_per_track[ref_track])\n",
    "\n",
    "            tracks_scored.append((jaccard_sum, track))\n",
    "\n",
    "        tracks_scored.sort(reverse=True)\n",
    "        recommend_tracks = [t[1] for t in tracks_scored[:k]]\n",
    "        \n",
    "        pred = {\n",
    "            \"pid\": sample['pid'],\n",
    "            \"tracks\": playlist + recommend_tracks\n",
    "        }\n",
    "        predictions.append(pred)\n",
    "    \n",
    "    df = pd.DataFrame(predictions)\n",
    "    return df"
   ]
  },
  {
   "cell_type": "code",
   "execution_count": 5,
   "id": "a6cdcad4",
   "metadata": {},
   "outputs": [
    {
     "data": {
      "application/vnd.jupyter.widget-view+json": {
       "model_id": "10f8eeae3529424cb21bf965cedf1f00",
       "version_major": 2,
       "version_minor": 0
      },
      "text/plain": [
       "  0%|          | 0/100 [00:00<?, ?it/s]"
      ]
     },
     "metadata": {},
     "output_type": "display_data"
    }
   ],
   "source": [
    "# map pid to playlist name\n",
    "playlist_name = {}\n",
    "\n",
    "track_per_playlist = defaultdict(set)\n",
    "playlist_per_track = defaultdict(set)\n",
    "\n",
    "path_home = os.path.expanduser('~')\n",
    "path_data = os.path.join(path_home, 'spotify_mpd/data')\n",
    "\n",
    "\n",
    "for filename in tqdm(os.listdir(path_data)[:100]):\n",
    "    full_path = os.path.join(path_data, filename)\n",
    "    with open(full_path, 'r') as file:\n",
    "        mpd_slice = json.load(file)\n",
    "        \n",
    "        for playlist in mpd_slice['playlists']:\n",
    "            pid = playlist['pid']\n",
    "            \n",
    "            playlist_name[pid] = playlist['name']\n",
    "            \n",
    "            for track in playlist['tracks']:\n",
    "                track_uri = track['track_uri']\n",
    "                \n",
    "                track_per_playlist[pid].add(track_uri)\n",
    "                playlist_per_track[track_uri].add(pid)"
   ]
  },
  {
   "cell_type": "code",
   "execution_count": 6,
   "id": "a8514309",
   "metadata": {},
   "outputs": [],
   "source": [
    "all_tracks = list(playlist_per_track.keys())"
   ]
  },
  {
   "cell_type": "markdown",
   "id": "297b4674",
   "metadata": {},
   "source": [
    "## Precalculated"
   ]
  },
  {
   "cell_type": "code",
   "execution_count": null,
   "id": "db8ee80e",
   "metadata": {},
   "outputs": [],
   "source": [
    "with open('challenge_type_6.json', 'r') as f:\n",
    "    type_6 = json.load(f)\n",
    "\n",
    "jaccard_dict = pre_calc_jaccard(type_6)"
   ]
  },
  {
   "cell_type": "markdown",
   "id": "b2e72037",
   "metadata": {},
   "source": [
    "## Non-precalculated"
   ]
  },
  {
   "cell_type": "code",
   "execution_count": null,
   "id": "b7d07750",
   "metadata": {},
   "outputs": [],
   "source": [
    "with open('challenge_type_7.json', 'r') as f:\n",
    "    type_7 = json.load(f)\n",
    "    \n",
    "df_pred_type7 = apc(type_7[:1]) "
   ]
  },
  {
   "cell_type": "code",
   "execution_count": null,
   "id": "f18c2a9d",
   "metadata": {},
   "outputs": [],
   "source": [
    "with pd.option_context('display.max_colwidth', None):\n",
    "    display(df_pred_type7)"
   ]
  },
  {
   "cell_type": "code",
   "execution_count": null,
   "id": "51986ce3",
   "metadata": {},
   "outputs": [],
   "source": [
    "type_7[0]"
   ]
  },
  {
   "cell_type": "code",
   "execution_count": null,
   "id": "da8a11a8",
   "metadata": {},
   "outputs": [],
   "source": []
  }
 ],
 "metadata": {
  "kernelspec": {
   "display_name": "Python 3 (ipykernel)",
   "language": "python",
   "name": "python3"
  },
  "language_info": {
   "codemirror_mode": {
    "name": "ipython",
    "version": 3
   },
   "file_extension": ".py",
   "mimetype": "text/x-python",
   "name": "python",
   "nbconvert_exporter": "python",
   "pygments_lexer": "ipython3",
   "version": "3.9.5"
  }
 },
 "nbformat": 4,
 "nbformat_minor": 5
}
