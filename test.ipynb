{
 "cells": [
  {
   "cell_type": "code",
   "execution_count": 1,
   "id": "61736ce3",
   "metadata": {},
   "outputs": [],
   "source": [
    "import os\n",
    "import json"
   ]
  },
  {
   "cell_type": "markdown",
   "id": "db38122a",
   "metadata": {},
   "source": [
    "## Stats"
   ]
  },
  {
   "cell_type": "code",
   "execution_count": 2,
   "id": "0a0ff62b",
   "metadata": {},
   "outputs": [],
   "source": [
    "path_home = os.path.expanduser('~')\n",
    "path_data = os.path.join(path_home, '258/project/processed/')  # change this to fit your machine\n",
    "train_path = path_data + 'train.json'\n",
    "valid_path = path_data + 'valid.json'\n",
    "test_path = path_data + 'test.json'\n",
    "\n",
    "with open(train_path, 'r') as file_train:\n",
    "    train_data = json.load(file_train)"
   ]
  },
  {
   "cell_type": "code",
   "execution_count": 3,
   "id": "d34da715",
   "metadata": {},
   "outputs": [
    {
     "data": {
      "text/plain": [
       "61024"
      ]
     },
     "execution_count": 3,
     "metadata": {},
     "output_type": "execute_result"
    }
   ],
   "source": [
    "len(train_data)  # of playlists"
   ]
  },
  {
   "cell_type": "code",
   "execution_count": 4,
   "id": "da8a11a8",
   "metadata": {},
   "outputs": [],
   "source": [
    "all_tracks = set()\n",
    "for playlist in train_data:\n",
    "    tracks = playlist['visible_tracks'] + playlist['withheld_tracks']\n",
    "    all_tracks |= set(tracks)"
   ]
  },
  {
   "cell_type": "code",
   "execution_count": 5,
   "id": "6cc54963",
   "metadata": {},
   "outputs": [
    {
     "data": {
      "text/plain": [
       "294217"
      ]
     },
     "execution_count": 5,
     "metadata": {},
     "output_type": "execute_result"
    }
   ],
   "source": [
    "len(all_tracks)  # of tracks"
   ]
  },
  {
   "cell_type": "code",
   "execution_count": 6,
   "id": "9190fa13",
   "metadata": {},
   "outputs": [
    {
     "name": "stdout",
     "output_type": "stream",
     "text": [
      "7628 7628\n"
     ]
    }
   ],
   "source": [
    "with open(valid_path, 'r') as file_valid:\n",
    "    valid_data = json.load(file_valid)\n",
    "with open(test_path, 'r') as file_test:\n",
    "    test_data = json.load(file_test)\n",
    "print(len(valid_data), len(test_data))"
   ]
  },
  {
   "cell_type": "code",
   "execution_count": 7,
   "id": "ad23aff3",
   "metadata": {},
   "outputs": [],
   "source": [
    "all_tracks_valid = set()\n",
    "for playlist in valid_data:\n",
    "    tracks = playlist['visible_tracks'] + playlist['withheld_tracks']\n",
    "    all_tracks_valid |= set(tracks)"
   ]
  },
  {
   "cell_type": "code",
   "execution_count": 8,
   "id": "4be7b14f",
   "metadata": {},
   "outputs": [],
   "source": [
    "all_tracks_test = set()\n",
    "for playlist in test_data:\n",
    "    tracks = playlist['visible_tracks'] + playlist['withheld_tracks']\n",
    "    all_tracks_test |= set(tracks)"
   ]
  },
  {
   "cell_type": "code",
   "execution_count": 9,
   "id": "8f2a5535",
   "metadata": {},
   "outputs": [
    {
     "name": "stdout",
     "output_type": "stream",
     "text": [
      "77778 77067\n"
     ]
    }
   ],
   "source": [
    "print(len(all_tracks_valid), len(all_tracks_test))"
   ]
  },
  {
   "cell_type": "code",
   "execution_count": 10,
   "id": "0cc7b534",
   "metadata": {},
   "outputs": [
    {
     "data": {
      "text/plain": [
       "56711"
      ]
     },
     "execution_count": 10,
     "metadata": {},
     "output_type": "execute_result"
    }
   ],
   "source": [
    "len(all_tracks_test & (all_tracks|all_tracks_valid))"
   ]
  }
 ],
 "metadata": {
  "kernelspec": {
   "display_name": "Python 3",
   "language": "python",
   "name": "python3"
  },
  "language_info": {
   "codemirror_mode": {
    "name": "ipython",
    "version": 3
   },
   "file_extension": ".py",
   "mimetype": "text/x-python",
   "name": "python",
   "nbconvert_exporter": "python",
   "pygments_lexer": "ipython3",
   "version": "3.8.8"
  }
 },
 "nbformat": 4,
 "nbformat_minor": 5
}
