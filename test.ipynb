{
 "cells": [
  {
   "cell_type": "code",
   "execution_count": 3,
   "id": "61736ce3",
   "metadata": {},
   "outputs": [],
   "source": [
    "import os\n",
    "import json\n",
    "import pandas as pd\n",
    "from collections import defaultdict\n",
    "from tqdm.notebook import tqdm"
   ]
  },
  {
   "cell_type": "markdown",
   "id": "db38122a",
   "metadata": {},
   "source": [
    "## Preprocessing"
   ]
  },
  {
   "cell_type": "code",
   "execution_count": 4,
   "id": "0a0ff62b",
   "metadata": {},
   "outputs": [],
   "source": [
    "path_home = os.path.expanduser('~')\n",
    "path_data = os.path.join(path_home, '258/project/processed/')  # change this to fit your machine\n",
    "train_path = path_data + 'train.json'\n",
    "valid_path = path_data + 'valid.json'\n",
    "test_path = path_data + 'test.json'\n",
    "\n",
    "with open(train_path, 'r') as file_train:\n",
    "    train_data = json.load(file_train)"
   ]
  },
  {
   "cell_type": "code",
   "execution_count": 5,
   "id": "d34da715",
   "metadata": {},
   "outputs": [
    {
     "data": {
      "text/plain": [
       "61024"
      ]
     },
     "execution_count": 5,
     "metadata": {},
     "output_type": "execute_result"
    }
   ],
   "source": [
    "len(train_data)  # of playlists"
   ]
  },
  {
   "cell_type": "code",
   "execution_count": 8,
   "id": "da8a11a8",
   "metadata": {},
   "outputs": [],
   "source": [
    "all_tracks = set()\n",
    "for playlist in train_data:\n",
    "    tracks = playlist['visible_tracks'] + playlist['withheld_tracks']\n",
    "    all_tracks |= set(tracks)"
   ]
  },
  {
   "cell_type": "code",
   "execution_count": 9,
   "id": "577509cf",
   "metadata": {},
   "outputs": [
    {
     "data": {
      "text/plain": [
       "294217"
      ]
     },
     "execution_count": 9,
     "metadata": {},
     "output_type": "execute_result"
    }
   ],
   "source": [
    "len(all_tracks)  # of tracks"
   ]
  }
 ],
 "metadata": {
  "kernelspec": {
   "display_name": "Python 3",
   "language": "python",
   "name": "python3"
  },
  "language_info": {
   "codemirror_mode": {
    "name": "ipython",
    "version": 3
   },
   "file_extension": ".py",
   "mimetype": "text/x-python",
   "name": "python",
   "nbconvert_exporter": "python",
   "pygments_lexer": "ipython3",
   "version": "3.8.8"
  }
 },
 "nbformat": 4,
 "nbformat_minor": 5
}
